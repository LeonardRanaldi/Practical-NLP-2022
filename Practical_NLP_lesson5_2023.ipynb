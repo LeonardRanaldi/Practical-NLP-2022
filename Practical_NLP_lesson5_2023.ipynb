{
  "nbformat": 4,
  "nbformat_minor": 0,
  "metadata": {
    "colab": {
      "provenance": []
    },
    "kernelspec": {
      "name": "python3",
      "display_name": "Python 3"
    },
    "language_info": {
      "name": "python"
    }
  },
  "cells": [
    {
      "cell_type": "markdown",
      "source": [
        "# Tokenizzazione & WordNet (NLTK)\n",
        "\n",
        "NLTK (libreria Python completa per l'NLP e l'analisi del testo).\n",
        "\n",
        "\n",
        "Tokenizzazione: metodo per suddividere un testo in più parti, come frasi e parole, ed è un primo passo essenziale per i progetti di NLP.\n",
        "\n",
        "Consiste nel suddividere una stringa in un elenco di pezzi o token. \n",
        "\n",
        "Un token è un pezzo di un insieme, quindi una parola è un token in una frase e una frase è un token in un paragrafo. \n",
        "\n",
        "\n",
        "**WordNet** è un dizionario progettato per l'accesso programmatico da parte dei sistemi di elaborazione del linguaggio naturale. \n",
        "\n",
        "Ha molti casi d'uso diversi, tra cui: \n",
        " - Trovare sinonimi e contrari di una parola;\n",
        " - Esplorare le relazioni e le somiglianze tra le parole;\n",
        " - Cercare la definizione di una parola;\n",
        " - Disambiguazione del senso della parola per parole che hanno usi e definizioni multiple;\n"
      ],
      "metadata": {
        "id": "skUc5RfShqYH"
      }
    },
    {
      "cell_type": "markdown",
      "source": [
        "NLTK include un lettore di corpus **WordNet**, che verrà usato per accedere ed esplorare WordNet. \n",
        "\n",
        "*Corpus:* insieme di testi, e i lettori di corpus sono progettati per rendere l'accesso a un corpus molto più semplice rispetto all'accesso diretto alle fle."
      ],
      "metadata": {
        "id": "pI9afoIRqXuH"
      }
    },
    {
      "cell_type": "markdown",
      "source": [
        "#NLTK (tokenization) "
      ],
      "metadata": {
        "id": "Nz2IeO-L4uhn"
      }
    },
    {
      "cell_type": "code",
      "source": [
        "import nltk\n",
        "nltk.download('punkt')"
      ],
      "metadata": {
        "colab": {
          "base_uri": "https://localhost:8080/"
        },
        "id": "zWI_EE6EqqiR",
        "outputId": "e9a291ae-05a1-4735-a328-01c6d40bb456"
      },
      "execution_count": 1,
      "outputs": [
        {
          "output_type": "stream",
          "name": "stderr",
          "text": [
            "[nltk_data] Downloading package punkt to /root/nltk_data...\n",
            "[nltk_data]   Unzipping tokenizers/punkt.zip.\n"
          ]
        },
        {
          "output_type": "execute_result",
          "data": {
            "text/plain": [
              "True"
            ]
          },
          "metadata": {},
          "execution_count": 1
        }
      ]
    },
    {
      "cell_type": "code",
      "source": [
        "# we can start by creating a paragraph of text:\n",
        "para = \"Good afternoon, everyone. I am the NLP professor today! This lecture is interesting?\"\n",
        "\n",
        "from nltk.tokenize import sent_tokenize\n",
        "sent_tokenize(para)"
      ],
      "metadata": {
        "colab": {
          "base_uri": "https://localhost:8080/"
        },
        "id": "HTfUyzvmqWo0",
        "outputId": "666b79dd-b989-446e-dc0f-5e121252baaa"
      },
      "execution_count": 2,
      "outputs": [
        {
          "output_type": "execute_result",
          "data": {
            "text/plain": [
              "['Good afternoon, everyone.',\n",
              " 'I am the NLP professor today!',\n",
              " 'This lecture is interesting?']"
            ]
          },
          "metadata": {},
          "execution_count": 2
        }
      ]
    },
    {
      "cell_type": "markdown",
      "source": [
        "La funzione **sent_tokenize** utilizza un'istanza di **PunktSentenceTokenizer** dal modulo *nltk.tokenize.punkt*.\n",
        "\n",
        "Questa istanza è già stata addestrata e funziona bene per molte lingue europee, quindi sa quindi quali sono i caratteri di punteggiatura che segnano la fine di una frase e l'inizio di una nuova frase.\n",
        "\n",
        "**Tokenizzazione di frasi in altre lingue**\n",
        "Se si desidera tokenizzare frasi in lingue diverse dall'inglese, si può caricare uno degli altri pickle in tokenizers/punkt/PY3 e usarlo proprio come il tokenizzatore di frasi in inglese. "
      ],
      "metadata": {
        "id": "LRqCR64urFXj"
      }
    },
    {
      "cell_type": "code",
      "source": [
        "ita_tokenizer = nltk.data.load('tokenizers/punkt/italian.pickle')\n",
        "ita_tokenizer.tokenize('Che giornataccia. Ho molto sonno!')\n"
      ],
      "metadata": {
        "colab": {
          "base_uri": "https://localhost:8080/"
        },
        "id": "G8LJcrPTqoK8",
        "outputId": "e39d6784-54d8-4c65-e2d9-724cf89c462a"
      },
      "execution_count": 3,
      "outputs": [
        {
          "output_type": "execute_result",
          "data": {
            "text/plain": [
              "['Che giornataccia.', 'Ho molto sonno!']"
            ]
          },
          "metadata": {},
          "execution_count": 3
        }
      ]
    },
    {
      "cell_type": "markdown",
      "source": [
        "**Tokenizzazione delle frasi in parole**\n",
        "Si può fare un ulteriore divisione, ad esempio quella di una frase in singole parole. "
      ],
      "metadata": {
        "id": "auMozv2ssEIb"
      }
    },
    {
      "cell_type": "code",
      "source": [
        "from nltk.tokenize import word_tokenize\n",
        "word_tokenize('Good afternoon,, everyone.!')"
      ],
      "metadata": {
        "colab": {
          "base_uri": "https://localhost:8080/"
        },
        "id": "SLMtgnxkrjtu",
        "outputId": "3b5e3ea7-c50a-4e09-e7e5-88665885a176"
      },
      "execution_count": 4,
      "outputs": [
        {
          "output_type": "execute_result",
          "data": {
            "text/plain": [
              "['Good', 'afternoon', ',', ',', 'everyone', '.', '!']"
            ]
          },
          "metadata": {},
          "execution_count": 4
        }
      ]
    },
    {
      "cell_type": "markdown",
      "source": [
        "La funzione **word_tokenize()** è una funzione wrapper che chiama **tokenize()** su un'istanza della classe *TreebankWordTokenizer*. \n",
        "\n",
        "Funziona separando le parole con spazi e punteggiatura. Come si può vedere, non scarta la punteggiatura, lasciando all'utente la possibilità di decidere cosa farne. "
      ],
      "metadata": {
        "id": "Q8uogxxMshno"
      }
    },
    {
      "cell_type": "code",
      "source": [
        "from nltk.tokenize import TreebankWordTokenizer\n",
        "tokenizer = TreebankWordTokenizer()\n",
        "tokenizer.tokenize('Good afternoon,, everyone.!')"
      ],
      "metadata": {
        "colab": {
          "base_uri": "https://localhost:8080/"
        },
        "id": "kdslwiYZsXwo",
        "outputId": "ab873e9b-ae22-49ff-bf41-9adfde7ac000"
      },
      "execution_count": 5,
      "outputs": [
        {
          "output_type": "execute_result",
          "data": {
            "text/plain": [
              "['Good', 'afternoon', ',', ',', 'everyone.', '!']"
            ]
          },
          "metadata": {},
          "execution_count": 5
        }
      ]
    },
    {
      "cell_type": "markdown",
      "source": [
        "Un altro tokenizzatore di parole alternativo è **WordPunctTokenizer**.\n",
        "\n",
        "Divide tutta la punteggiatura in token separati:"
      ],
      "metadata": {
        "id": "gnoOr-bqs4xN"
      }
    },
    {
      "cell_type": "code",
      "source": [
        "from nltk.tokenize import WordPunctTokenizer\n",
        "tokenizer = WordPunctTokenizer()\n",
        "tokenizer.tokenize('Good afternoon,, everyone.!')"
      ],
      "metadata": {
        "colab": {
          "base_uri": "https://localhost:8080/"
        },
        "id": "FKRN5nJMs1VZ",
        "outputId": "3a695ba2-edc0-46db-c9c9-ad9de2f9408f"
      },
      "execution_count": 6,
      "outputs": [
        {
          "output_type": "execute_result",
          "data": {
            "text/plain": [
              "['Good', 'afternoon', ',,', 'everyone', '.!']"
            ]
          },
          "metadata": {},
          "execution_count": 6
        }
      ]
    },
    {
      "cell_type": "markdown",
      "source": [
        "**Tokenizzare le frasi usando le espressioni regolari**\n",
        "Le espressioni regolari possono essere utilizzate se si vuole avere un controllo completo su come tokenizzare il testo. Poiché le espressioni regolari possono diventare complicate molto rapidamente, ne raccomando l'uso solo se i tokenizzatori di parole trattati nella ricetta precedente non sono accettabili.\n"
      ],
      "metadata": {
        "id": "KjqUk2S5tL7e"
      }
    },
    {
      "cell_type": "code",
      "source": [
        "from nltk.tokenize import RegexpTokenizer\n",
        "tokenizer = RegexpTokenizer(\"[\\w']+\")\n",
        "tokenizer.tokenize('Good afternoon,, everyone.!')"
      ],
      "metadata": {
        "colab": {
          "base_uri": "https://localhost:8080/"
        },
        "id": "buBZmImus5Ou",
        "outputId": "5df3f61a-2394-41c1-8e9e-307df9b10c74"
      },
      "execution_count": 7,
      "outputs": [
        {
          "output_type": "execute_result",
          "data": {
            "text/plain": [
              "['Good', 'afternoon', 'everyone']"
            ]
          },
          "metadata": {},
          "execution_count": 7
        }
      ]
    },
    {
      "cell_type": "code",
      "source": [
        "tokenizer.tokenize(\"Today isn't good day!\")"
      ],
      "metadata": {
        "colab": {
          "base_uri": "https://localhost:8080/"
        },
        "id": "g5TKry_ftuKX",
        "outputId": "8ae7da3b-13f4-41ba-f8df-2b6819fa0a4e"
      },
      "execution_count": 8,
      "outputs": [
        {
          "output_type": "execute_result",
          "data": {
            "text/plain": [
              "['Today', \"isn't\", 'good', 'day']"
            ]
          },
          "metadata": {},
          "execution_count": 8
        }
      ]
    },
    {
      "cell_type": "code",
      "source": [
        "from nltk.tokenize import RegexpTokenizer\n",
        "tokenizer = RegexpTokenizer(\"[\\w']+\")\n",
        "tokenizer.tokenize(\"Today isn't good day!\")"
      ],
      "metadata": {
        "colab": {
          "base_uri": "https://localhost:8080/"
        },
        "id": "wQudJlObtaSp",
        "outputId": "bf1999a6-40c6-4d27-dda7-f6e35f2a3d01"
      },
      "execution_count": 9,
      "outputs": [
        {
          "output_type": "execute_result",
          "data": {
            "text/plain": [
              "['Today', \"isn't\", 'good', 'day']"
            ]
          },
          "metadata": {},
          "execution_count": 9
        }
      ]
    },
    {
      "cell_type": "markdown",
      "source": [
        "**Filtrare le stopword in una frase tokenizzata**\n",
        "Le **stopword** sono parole comuni che generalmente non contribuiscono al significato di una frase, almeno ai fini del reperimento delle informazioni e dell'NLP. \n",
        "Infatti la maggior parte dei motori di ricerca elimina le stopword dalle query di ricerca e dai documenti per risparmiare spazio nel loro indice.\n",
        "\n",
        "\n",
        "In NLTK viene fornito con un corpus di stopwords che contiene elenchi di parole per molte lingue. "
      ],
      "metadata": {
        "id": "rO90SP8lt4EG"
      }
    },
    {
      "cell_type": "code",
      "source": [
        "nltk.download('stopwords')\n",
        "\n",
        "from nltk.corpus import stopwords\n",
        "english_stops = set(stopwords.words('english'))\n",
        "words = ['Good', 'afternoon', 'for', 'everyone']\n",
        "[word for word in words if word not in english_stops]"
      ],
      "metadata": {
        "colab": {
          "base_uri": "https://localhost:8080/"
        },
        "id": "Aupya3i_tr6I",
        "outputId": "7e159b70-70b0-4d1d-e333-8b8ec9730518"
      },
      "execution_count": 10,
      "outputs": [
        {
          "output_type": "stream",
          "name": "stderr",
          "text": [
            "[nltk_data] Downloading package stopwords to /root/nltk_data...\n",
            "[nltk_data]   Unzipping corpora/stopwords.zip.\n"
          ]
        },
        {
          "output_type": "execute_result",
          "data": {
            "text/plain": [
              "['Good', 'afternoon', 'everyone']"
            ]
          },
          "metadata": {},
          "execution_count": 10
        }
      ]
    },
    {
      "cell_type": "code",
      "source": [
        "from nltk.corpus import stopwords\n",
        "english_stops = set(stopwords.words('italian'))\n",
        "words = ['Che', 'giornata', 'piovosa', 'è', 'rilassante']\n",
        "[word for word in words if word not in english_stops]"
      ],
      "metadata": {
        "colab": {
          "base_uri": "https://localhost:8080/"
        },
        "id": "DoXfPoduusqw",
        "outputId": "d97f2525-6240-4e3c-d786-e567f0159536"
      },
      "execution_count": 11,
      "outputs": [
        {
          "output_type": "execute_result",
          "data": {
            "text/plain": [
              "['Che', 'giornata', 'piovosa', 'rilassante']"
            ]
          },
          "metadata": {},
          "execution_count": 11
        }
      ]
    },
    {
      "cell_type": "markdown",
      "source": [
        "Il corpus **stopwords** è un'istanza di *nltk.corpus.reader.WordListCorpusReader*. \n",
        "\n",
        "Il metodo *words()* può accettare un singolo argomento per l'ID del fle, che in questo caso è 'italian', riferendosi a un fle contenente un elenco di stopwords italiane."
      ],
      "metadata": {
        "id": "_gyCtDTQvDFo"
      }
    },
    {
      "cell_type": "markdown",
      "source": [
        "#WordNet "
      ],
      "metadata": {
        "id": "BW-Uxl0M4nXO"
      }
    },
    {
      "cell_type": "markdown",
      "source": [
        "**WordNet** https://wordnet.princeton.edu/\n",
        "\n",
        "è un database lessicale per la lingua inglese. \n",
        "In altre parole, è un dizionario progettato specificamente per l'NLP. \n",
        "\n",
        "NLTK è dotato di una semplice interfaccia per cercare le parole in WordNet. \n",
        "\n",
        "Si ottiene un elenco di istanze di *Synset*, che sono raggruppamenti di parole sinonime che esprimono lo stesso concetto. \n",
        "\n",
        "Molte parole hanno un solo *Synset*, ma alcune ne hanno diversi. \n",
        "\n",
        "*NB* Per ora esploreremo un singolo *Synset*\n"
      ],
      "metadata": {
        "id": "zcA09jjqvZjU"
      }
    },
    {
      "cell_type": "markdown",
      "source": [
        "![wordnet-figure.jpg](data:image/jpeg;base64,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)"
      ],
      "metadata": {
        "id": "C8Gi8ckyiPGX"
      }
    },
    {
      "cell_type": "code",
      "source": [
        "import nltk\n",
        "\n",
        "nltk.download('wordnet')\n",
        "nltk.download('omw-1.4')\n",
        "\n",
        "from nltk.corpus import wordnet\n",
        "syn = wordnet.synsets('cocaine')[0]\n",
        "syn.name()"
      ],
      "metadata": {
        "colab": {
          "base_uri": "https://localhost:8080/",
          "height": 70
        },
        "id": "tNLBl4bFulUz",
        "outputId": "c0576e70-b90e-4de7-ef9b-cf9028509e3c"
      },
      "execution_count": 12,
      "outputs": [
        {
          "output_type": "stream",
          "name": "stderr",
          "text": [
            "[nltk_data] Downloading package wordnet to /root/nltk_data...\n",
            "[nltk_data] Downloading package omw-1.4 to /root/nltk_data...\n"
          ]
        },
        {
          "output_type": "execute_result",
          "data": {
            "text/plain": [
              "'cocaine.n.01'"
            ],
            "application/vnd.google.colaboratory.intrinsic+json": {
              "type": "string"
            }
          },
          "metadata": {},
          "execution_count": 12
        }
      ]
    },
    {
      "cell_type": "code",
      "source": [
        "syn.definition()"
      ],
      "metadata": {
        "colab": {
          "base_uri": "https://localhost:8080/",
          "height": 35
        },
        "id": "iwlkps9mxiL_",
        "outputId": "cfa35676-cd3b-4f64-85a0-e0a0f4a329dc"
      },
      "execution_count": 13,
      "outputs": [
        {
          "output_type": "execute_result",
          "data": {
            "text/plain": [
              "'a narcotic (alkaloid) extracted from coca leaves; used as a surface anesthetic or taken for pleasure; can become powerfully addictive'"
            ],
            "application/vnd.google.colaboratory.intrinsic+json": {
              "type": "string"
            }
          },
          "metadata": {},
          "execution_count": 13
        }
      ]
    },
    {
      "cell_type": "markdown",
      "source": [
        "È possibile cercare qualsiasi parola in WordNet utilizzando **wordnet.synset (word)** per ottenere un elenco di sinonimi. \n",
        "\n",
        "L'elenco può essere vuoto se la parola non viene trovata. \n",
        "\n",
        "L'elenco può anche avere molti elementi, poiché alcune parole possono avere molti significati possibilivquindi molti insiemi."
      ],
      "metadata": {
        "id": "W1yJsRl7UWMz"
      }
    },
    {
      "cell_type": "markdown",
      "source": [
        "**lemmi e sinonimi**\n",
        "\n",
        "Possiamo anche cercare i lemmi per trovare i sinonimi di una parola. \n",
        "\n",
        "(*lemma:* forma canonica o morfologica di una parola)."
      ],
      "metadata": {
        "id": "uk49k1Dxdwo2"
      }
    },
    {
      "cell_type": "code",
      "source": [
        "from nltk.corpus import wordnet\n",
        "syn = wordnet.synsets('cookbook')[0]\n",
        "lemmas = syn.lemmas()\n",
        "len(lemmas)"
      ],
      "metadata": {
        "id": "l9wTEJyjxpsX",
        "colab": {
          "base_uri": "https://localhost:8080/"
        },
        "outputId": "4e73b7ad-ea49-43b8-e3cc-2e4fe963d8f6"
      },
      "execution_count": 14,
      "outputs": [
        {
          "output_type": "execute_result",
          "data": {
            "text/plain": [
              "2"
            ]
          },
          "metadata": {},
          "execution_count": 14
        }
      ]
    },
    {
      "cell_type": "code",
      "source": [
        "lemmas[0].name()"
      ],
      "metadata": {
        "colab": {
          "base_uri": "https://localhost:8080/",
          "height": 35
        },
        "id": "HVgJP9aTUYF3",
        "outputId": "f8d40685-d92b-4ccf-b888-82ca2f1c58d8"
      },
      "execution_count": 15,
      "outputs": [
        {
          "output_type": "execute_result",
          "data": {
            "text/plain": [
              "'cookbook'"
            ],
            "application/vnd.google.colaboratory.intrinsic+json": {
              "type": "string"
            }
          },
          "metadata": {},
          "execution_count": 15
        }
      ]
    },
    {
      "cell_type": "code",
      "source": [
        "lemmas[1].name()"
      ],
      "metadata": {
        "colab": {
          "base_uri": "https://localhost:8080/",
          "height": 35
        },
        "id": "7CrHxbRIUgdX",
        "outputId": "49272052-7a0c-445b-ae19-c09bf170588e"
      },
      "execution_count": 16,
      "outputs": [
        {
          "output_type": "execute_result",
          "data": {
            "text/plain": [
              "'cookery_book'"
            ],
            "application/vnd.google.colaboratory.intrinsic+json": {
              "type": "string"
            }
          },
          "metadata": {},
          "execution_count": 16
        }
      ]
    },
    {
      "cell_type": "code",
      "source": [
        "lemmas[0].synset() == lemmas[1].synset()"
      ],
      "metadata": {
        "colab": {
          "base_uri": "https://localhost:8080/"
        },
        "id": "P_Hi_KmEUi09",
        "outputId": "5e26d2f6-2071-49a8-d1f6-125485b349f2"
      },
      "execution_count": 17,
      "outputs": [
        {
          "output_type": "execute_result",
          "data": {
            "text/plain": [
              "True"
            ]
          },
          "metadata": {},
          "execution_count": 17
        }
      ]
    },
    {
      "cell_type": "markdown",
      "source": [
        "Come si può vedere, cookery_book e cookbook sono due lemmi distinti nello stesso Synset.\n",
        "\n",
        "Infatti, un lemma può appartenere a un solo Synset.\n",
        "\n",
        "**In questo modo, un Synset rappresenta un gruppo di lemmi che hanno tutti lo stesso significato, mentre un lemma rappresenta una forma di parola distinta.**\n",
        "\n",
        "\n",
        "Poiché tutti i lemmi di un Synset hanno lo stesso significato, possono essere trattati come sinonimi. \n",
        "\n",
        "Quindi, se si vogliono ottenere tutti i sinonimi di un Synset, si può procedere come segue:"
      ],
      "metadata": {
        "id": "VbKvMhnJUn3M"
      }
    },
    {
      "cell_type": "code",
      "source": [
        "[lemma.name() for lemma in syn.lemmas()]"
      ],
      "metadata": {
        "colab": {
          "base_uri": "https://localhost:8080/"
        },
        "id": "754FhWEGUlXH",
        "outputId": "a3825fee-21c9-44c1-df0d-55e9241a936d"
      },
      "execution_count": 18,
      "outputs": [
        {
          "output_type": "execute_result",
          "data": {
            "text/plain": [
              "['cookbook', 'cookery_book']"
            ]
          },
          "metadata": {},
          "execution_count": 18
        }
      ]
    },
    {
      "cell_type": "code",
      "source": [
        "[str(lemma.name()) for lemma in wordnet.synset('dog.n.01').lemmas()]"
      ],
      "metadata": {
        "colab": {
          "base_uri": "https://localhost:8080/"
        },
        "id": "nwKAz0BcfhI0",
        "outputId": "4ab01fa7-2ff6-4695-f04d-521891a41c38"
      },
      "execution_count": 33,
      "outputs": [
        {
          "output_type": "execute_result",
          "data": {
            "text/plain": [
              "['dog', 'domestic_dog', 'Canis_familiaris']"
            ]
          },
          "metadata": {},
          "execution_count": 33
        }
      ]
    },
    {
      "cell_type": "code",
      "source": [
        "synonyms = []\n",
        "for syn in wordnet.synsets('book'):\n",
        "    for lemma in syn.lemmas():\n",
        "        synonyms.append(lemma.name())\n",
        "len(synonyms)"
      ],
      "metadata": {
        "colab": {
          "base_uri": "https://localhost:8080/"
        },
        "id": "1WpGfC-nUocG",
        "outputId": "2c5597ee-7854-443e-9eb5-2e17448133c6"
      },
      "execution_count": 19,
      "outputs": [
        {
          "output_type": "execute_result",
          "data": {
            "text/plain": [
              "38"
            ]
          },
          "metadata": {},
          "execution_count": 19
        }
      ]
    },
    {
      "cell_type": "code",
      "source": [],
      "metadata": {
        "id": "4bmsPszkfjxk"
      },
      "execution_count": null,
      "outputs": []
    },
    {
      "cell_type": "markdown",
      "source": [
        "Come si può vedere, sembrano esserci 38 possibili sinonimi per la parola **\"book\"**. \n",
        "\n",
        "In realtà, alcuni sinonimi sono forme verbali e molti sinonimi sono solo usi diversi di \"libro\". Se invece prendiamo l'insieme dei sinonimi, le parole uniche sono meno numerose, come mostra il codice seguente:"
      ],
      "metadata": {
        "id": "i4QV-SojUwx7"
      }
    },
    {
      "cell_type": "code",
      "source": [
        "len(set(synonyms))"
      ],
      "metadata": {
        "colab": {
          "base_uri": "https://localhost:8080/"
        },
        "id": "-eR3MMFpUvsu",
        "outputId": "a5a4f4c2-ed37-4f15-dda5-762d55b6e9eb"
      },
      "execution_count": 20,
      "outputs": [
        {
          "output_type": "execute_result",
          "data": {
            "text/plain": [
              "25"
            ]
          },
          "metadata": {},
          "execution_count": 20
        }
      ]
    },
    {
      "cell_type": "markdown",
      "source": [
        "Alcuni lemmi hanno anche degli **antonimi**. \n",
        "\n",
        "La parola **\"good\"**, per esempio, ha 27 sintagmi, cinque dei quali hanno lemmi con antonimi, come mostrato nel codice seguente:"
      ],
      "metadata": {
        "id": "PE-LTSrpU0cr"
      }
    },
    {
      "cell_type": "code",
      "source": [
        "gn2 = wordnet.synset('good.n.02')\n",
        "gn2.definition()"
      ],
      "metadata": {
        "colab": {
          "base_uri": "https://localhost:8080/",
          "height": 35
        },
        "id": "qFdhyeH4Uzab",
        "outputId": "8070f5b9-d11d-476e-eaed-08fa1586d9a9"
      },
      "execution_count": 21,
      "outputs": [
        {
          "output_type": "execute_result",
          "data": {
            "text/plain": [
              "'moral excellence or admirableness'"
            ],
            "application/vnd.google.colaboratory.intrinsic+json": {
              "type": "string"
            }
          },
          "metadata": {},
          "execution_count": 21
        }
      ]
    },
    {
      "cell_type": "code",
      "source": [
        "evil = gn2.lemmas()[0].antonyms()[0]\n",
        "evil.name"
      ],
      "metadata": {
        "colab": {
          "base_uri": "https://localhost:8080/"
        },
        "id": "oHt0juPLU2kY",
        "outputId": "a69252fc-b1ea-4d50-b68e-2019e3ddac35"
      },
      "execution_count": 22,
      "outputs": [
        {
          "output_type": "execute_result",
          "data": {
            "text/plain": [
              "<bound method Lemma.name of Lemma('evil.n.03.evil')>"
            ]
          },
          "metadata": {},
          "execution_count": 22
        }
      ]
    },
    {
      "cell_type": "code",
      "source": [
        "evil.synset().definition()"
      ],
      "metadata": {
        "colab": {
          "base_uri": "https://localhost:8080/",
          "height": 35
        },
        "id": "YLs0Evi0U6OI",
        "outputId": "9894205b-ac0c-4277-9127-efb8bdab9384"
      },
      "execution_count": 23,
      "outputs": [
        {
          "output_type": "execute_result",
          "data": {
            "text/plain": [
              "'the quality of being morally wrong in principle or practice'"
            ],
            "application/vnd.google.colaboratory.intrinsic+json": {
              "type": "string"
            }
          },
          "metadata": {},
          "execution_count": 23
        }
      ]
    },
    {
      "cell_type": "code",
      "source": [
        "ga1 = wordnet.synset('good.a.01')\n",
        "ga1.definition()"
      ],
      "metadata": {
        "colab": {
          "base_uri": "https://localhost:8080/",
          "height": 35
        },
        "id": "N3tWatqyU9s9",
        "outputId": "35a02503-892a-4c64-ceea-6a9c7d162442"
      },
      "execution_count": 24,
      "outputs": [
        {
          "output_type": "execute_result",
          "data": {
            "text/plain": [
              "'having desirable or positive qualities especially those suitable for a thing specified'"
            ],
            "application/vnd.google.colaboratory.intrinsic+json": {
              "type": "string"
            }
          },
          "metadata": {},
          "execution_count": 24
        }
      ]
    },
    {
      "cell_type": "code",
      "source": [
        "bad = ga1.lemmas()[0].antonyms()[0]\n",
        "bad.name()"
      ],
      "metadata": {
        "colab": {
          "base_uri": "https://localhost:8080/",
          "height": 35
        },
        "id": "S3NkesV1VAf3",
        "outputId": "b57efd83-7352-4f64-e4de-aa956dcb5a37"
      },
      "execution_count": 25,
      "outputs": [
        {
          "output_type": "execute_result",
          "data": {
            "text/plain": [
              "'bad'"
            ],
            "application/vnd.google.colaboratory.intrinsic+json": {
              "type": "string"
            }
          },
          "metadata": {},
          "execution_count": 25
        }
      ]
    },
    {
      "cell_type": "code",
      "source": [
        "bad.synset().definition()"
      ],
      "metadata": {
        "colab": {
          "base_uri": "https://localhost:8080/",
          "height": 35
        },
        "id": "pClP7PduVDP0",
        "outputId": "2985f09d-3406-43de-ac97-9c7b5f6e2696"
      },
      "execution_count": 26,
      "outputs": [
        {
          "output_type": "execute_result",
          "data": {
            "text/plain": [
              "'having undesirable or negative qualities'"
            ],
            "application/vnd.google.colaboratory.intrinsic+json": {
              "type": "string"
            }
          },
          "metadata": {},
          "execution_count": 26
        }
      ]
    },
    {
      "cell_type": "markdown",
      "source": [
        "Il metodo *antonyms()* restituisce un elenco di lemmi. \n",
        "\n",
        "Nel primo caso, come si può vedere nel codice precedente, il secondo sintagma di **\"good\"** come sostantivo è definito come eccellenza morale e il suo primo antonimo è evil, definito come moralmente sbagliato. \n",
        "\n",
        "Nel secondo caso, quando good è usato come aggettivo per descrivere qualità positive, il primo antonimo è bad, che descrive qualità negative."
      ],
      "metadata": {
        "id": "XsE2SV0_VHYo"
      }
    },
    {
      "cell_type": "markdown",
      "source": [
        "**Somiglianza tra i sinonimi di WordNet**\n",
        "\n",
        "I sinonimi sono organizzati in un albero di **hypernym**. \n",
        "\n",
        "Questo albero può essere utilizzato per ragionare sulla somiglianza tra i sinonimi che contiene. \n",
        "\n",
        "*Più i due sinonimi sono vicini nell'albero, più sono simili.*\n",
        "\n",
        "\n",
        "Se si esaminassero tutti gli iponimi di reference_book (che è l'iperonimo di cookbook), si vedrebbe che uno di essi è instruction_book.....\n",
        "\n",
        "\n",
        "Questo sembra intuitivamente molto simile a un libro di cucina, quindi vediamo cosa dice la similarità di WordNet al riguardo con l'aiuto del seguente codice:"
      ],
      "metadata": {
        "id": "8hNHTnrd2ffc"
      }
    },
    {
      "cell_type": "code",
      "source": [
        "from nltk.corpus import wordnet\n",
        "cb = wordnet.synset('cookbook.n.01')\n",
        "ib = wordnet.synset('instruction_book.n.01')\n",
        "cb.wup_similarity(ib)"
      ],
      "metadata": {
        "colab": {
          "base_uri": "https://localhost:8080/"
        },
        "id": "0WpUNEbjVGs-",
        "outputId": "52521727-6e1a-402d-c767-c88889c5eec4"
      },
      "execution_count": 27,
      "outputs": [
        {
          "output_type": "execute_result",
          "data": {
            "text/plain": [
              "0.9166666666666666"
            ]
          },
          "metadata": {},
          "execution_count": 27
        }
      ]
    },
    {
      "cell_type": "markdown",
      "source": [
        "*wup_similarity()* proviene da Wu-Palmer Similarity, che è un metodo di punteggio basato sulla somiglianza dei sensi delle parole e sulla posizione dei sinonimi nell'albero degli ipernimi **hypernym tree**. \n",
        "\n",
        "\n",
        "Una delle metriche principali utilizzate per calcolare la somiglianza è la shortest path tra i due sinonimi e il loro iperonimo comune:"
      ],
      "metadata": {
        "id": "sCvv2m48VKQy"
      }
    },
    {
      "cell_type": "code",
      "source": [
        "ref = cb.hypernyms()[0]\n",
        "cb.shortest_path_distance(ref)"
      ],
      "metadata": {
        "colab": {
          "base_uri": "https://localhost:8080/"
        },
        "id": "JEsnbWDeVJb-",
        "outputId": "e2ebad33-3559-4aaa-c715-319835c85a3f"
      },
      "execution_count": 28,
      "outputs": [
        {
          "output_type": "execute_result",
          "data": {
            "text/plain": [
              "1"
            ]
          },
          "metadata": {},
          "execution_count": 28
        }
      ]
    },
    {
      "cell_type": "markdown",
      "source": [
        "Quindi **cookbook** e **instruction_book** devono essere molto simili, perché sono a un passo dallo stesso iperonimo  e, quindi, a due passi l'uno dall'altro."
      ],
      "metadata": {
        "id": "_ulFZ4hR4GF1"
      }
    },
    {
      "cell_type": "code",
      "source": [
        "sorted(wordnet.langs())"
      ],
      "metadata": {
        "id": "pa2H6B3XVMRc",
        "colab": {
          "base_uri": "https://localhost:8080/"
        },
        "outputId": "c10ff21a-b303-4bf2-bc73-1523de6815cb"
      },
      "execution_count": 34,
      "outputs": [
        {
          "output_type": "execute_result",
          "data": {
            "text/plain": [
              "['als',\n",
              " 'arb',\n",
              " 'bul',\n",
              " 'cat',\n",
              " 'cmn',\n",
              " 'dan',\n",
              " 'ell',\n",
              " 'eng',\n",
              " 'eus',\n",
              " 'fin',\n",
              " 'fra',\n",
              " 'glg',\n",
              " 'heb',\n",
              " 'hrv',\n",
              " 'ind',\n",
              " 'isl',\n",
              " 'ita',\n",
              " 'ita_iwn',\n",
              " 'jpn',\n",
              " 'lit',\n",
              " 'nld',\n",
              " 'nno',\n",
              " 'nob',\n",
              " 'pol',\n",
              " 'por',\n",
              " 'ron',\n",
              " 'slk',\n",
              " 'slv',\n",
              " 'spa',\n",
              " 'swe',\n",
              " 'tha',\n",
              " 'zsm']"
            ]
          },
          "metadata": {},
          "execution_count": 34
        }
      ]
    },
    {
      "cell_type": "code",
      "source": [
        "wordnet.lemmas('casa', lang='ita')"
      ],
      "metadata": {
        "colab": {
          "base_uri": "https://localhost:8080/"
        },
        "id": "AmAnF_4kf6Vc",
        "outputId": "ceeb92f8-7644-428c-e61f-fc8404f84651"
      },
      "execution_count": 36,
      "outputs": [
        {
          "output_type": "execute_result",
          "data": {
            "text/plain": [
              "[Lemma('dwelling.n.01.casa'),\n",
              " Lemma('house.n.01.casa'),\n",
              " Lemma('square.n.07.casa'),\n",
              " Lemma('dynasty.n.01.casa'),\n",
              " Lemma('business.n.01.casa'),\n",
              " Lemma('family.n.01.casa'),\n",
              " Lemma('home.n.03.casa'),\n",
              " Lemma('sign_of_the_zodiac.n.01.casa')]"
            ]
          },
          "metadata": {},
          "execution_count": 36
        }
      ]
    },
    {
      "cell_type": "code",
      "source": [
        "wordnet.synset('cat.n.01').lemma_names('cmn')"
      ],
      "metadata": {
        "colab": {
          "base_uri": "https://localhost:8080/"
        },
        "id": "Vwk7YGDUgGyq",
        "outputId": "42a60756-fd7e-45c0-d445-518935c92c8c"
      },
      "execution_count": 41,
      "outputs": [
        {
          "output_type": "execute_result",
          "data": {
            "text/plain": [
              "['猫']"
            ]
          },
          "metadata": {},
          "execution_count": 41
        }
      ]
    },
    {
      "cell_type": "code",
      "source": [
        "wordnet.synset('cat.n.01').lemma_names('spa')"
      ],
      "metadata": {
        "colab": {
          "base_uri": "https://localhost:8080/"
        },
        "id": "M8Hu9nelgPHS",
        "outputId": "b76dfa4d-518e-4797-d57a-5b8213615fc5"
      },
      "execution_count": 42,
      "outputs": [
        {
          "output_type": "execute_result",
          "data": {
            "text/plain": [
              "['felis_silvestris_catus', 'gata', 'gato']"
            ]
          },
          "metadata": {},
          "execution_count": 42
        }
      ]
    },
    {
      "cell_type": "code",
      "source": [],
      "metadata": {
        "id": "l69uBVq3gWXw"
      },
      "execution_count": null,
      "outputs": []
    }
  ]
}