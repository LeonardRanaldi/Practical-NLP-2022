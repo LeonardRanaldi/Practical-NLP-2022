{
  "nbformat": 4,
  "nbformat_minor": 0,
  "metadata": {
    "colab": {
      "provenance": [],
      "collapsed_sections": []
    },
    "kernelspec": {
      "name": "python3",
      "display_name": "Python 3"
    },
    "language_info": {
      "name": "python"
    }
  },
  "cells": [
    {
      "cell_type": "markdown",
      "metadata": {
        "id": "Shamp3fegLeQ"
      },
      "source": [
        "**Practical NLP** *Lezione1 1*  \n",
        "\n",
        "\n",
        "# **Trading Stocks Based on Financial News**\n",
        "\n",
        "\n",
        "\n",
        "\n",
        "---\n",
        "\n",
        "Unsupervised sentiment analysis using NLTK & Vader\n",
        "\n",
        "---\n",
        "\n",
        "\n"
      ]
    },
    {
      "cell_type": "markdown",
      "metadata": {
        "id": "EnNhMsmMmGIb"
      },
      "source": [
        "# Librerie Utili\n",
        "\n",
        "\n",
        "\n",
        "\n",
        "*   **Web Scraping:** BeautifulSoup, urllib3\n",
        "*   **Data Analysis:** Pandas\n",
        "*   **Data Analysis:** Matplotlib\n",
        "*   **Language Analysis /& Manipulation:** Natural Language Toolkit (NLTK)\n",
        "\n"
      ]
    },
    {
      "cell_type": "code",
      "metadata": {
        "colab": {
          "base_uri": "https://localhost:8080/"
        },
        "id": "C5uUNlckDM6K",
        "outputId": "ab8d8cd7-bd43-446c-b4ba-4ea427f4c156"
      },
      "source": [
        "!pip install beautifulsoup4\n",
        "!pip install urllib3\n",
        "!pip install pandas\n",
        "!pip install matplotlib\n",
        "!pip install nltk"
      ],
      "execution_count": 2,
      "outputs": [
        {
          "output_type": "stream",
          "name": "stdout",
          "text": [
            "Looking in indexes: https://pypi.org/simple, https://us-python.pkg.dev/colab-wheels/public/simple/\n",
            "Requirement already satisfied: beautifulsoup4 in /usr/local/lib/python3.7/dist-packages (4.6.3)\n",
            "Looking in indexes: https://pypi.org/simple, https://us-python.pkg.dev/colab-wheels/public/simple/\n",
            "Requirement already satisfied: urllib3 in /usr/local/lib/python3.7/dist-packages (1.24.3)\n",
            "Looking in indexes: https://pypi.org/simple, https://us-python.pkg.dev/colab-wheels/public/simple/\n",
            "Requirement already satisfied: pandas in /usr/local/lib/python3.7/dist-packages (1.3.5)\n",
            "Requirement already satisfied: numpy>=1.17.3 in /usr/local/lib/python3.7/dist-packages (from pandas) (1.21.6)\n",
            "Requirement already satisfied: python-dateutil>=2.7.3 in /usr/local/lib/python3.7/dist-packages (from pandas) (2.8.2)\n",
            "Requirement already satisfied: pytz>=2017.3 in /usr/local/lib/python3.7/dist-packages (from pandas) (2022.4)\n",
            "Requirement already satisfied: six>=1.5 in /usr/local/lib/python3.7/dist-packages (from python-dateutil>=2.7.3->pandas) (1.15.0)\n",
            "Looking in indexes: https://pypi.org/simple, https://us-python.pkg.dev/colab-wheels/public/simple/\n",
            "Requirement already satisfied: matplotlib in /usr/local/lib/python3.7/dist-packages (3.2.2)\n",
            "Requirement already satisfied: python-dateutil>=2.1 in /usr/local/lib/python3.7/dist-packages (from matplotlib) (2.8.2)\n",
            "Requirement already satisfied: numpy>=1.11 in /usr/local/lib/python3.7/dist-packages (from matplotlib) (1.21.6)\n",
            "Requirement already satisfied: kiwisolver>=1.0.1 in /usr/local/lib/python3.7/dist-packages (from matplotlib) (1.4.4)\n",
            "Requirement already satisfied: pyparsing!=2.0.4,!=2.1.2,!=2.1.6,>=2.0.1 in /usr/local/lib/python3.7/dist-packages (from matplotlib) (3.0.9)\n",
            "Requirement already satisfied: cycler>=0.10 in /usr/local/lib/python3.7/dist-packages (from matplotlib) (0.11.0)\n",
            "Requirement already satisfied: typing-extensions in /usr/local/lib/python3.7/dist-packages (from kiwisolver>=1.0.1->matplotlib) (4.1.1)\n",
            "Requirement already satisfied: six>=1.5 in /usr/local/lib/python3.7/dist-packages (from python-dateutil>=2.1->matplotlib) (1.15.0)\n",
            "Looking in indexes: https://pypi.org/simple, https://us-python.pkg.dev/colab-wheels/public/simple/\n",
            "Requirement already satisfied: nltk in /usr/local/lib/python3.7/dist-packages (3.7)\n",
            "Requirement already satisfied: joblib in /usr/local/lib/python3.7/dist-packages (from nltk) (1.2.0)\n",
            "Requirement already satisfied: click in /usr/local/lib/python3.7/dist-packages (from nltk) (7.1.2)\n",
            "Requirement already satisfied: tqdm in /usr/local/lib/python3.7/dist-packages (from nltk) (4.64.1)\n",
            "Requirement already satisfied: regex>=2021.8.3 in /usr/local/lib/python3.7/dist-packages (from nltk) (2022.6.2)\n"
          ]
        }
      ]
    },
    {
      "cell_type": "code",
      "metadata": {
        "id": "Kwc5uRpZDHfh"
      },
      "source": [
        "import datetime\n",
        "import numpy as np\n",
        "from urllib.request import urlopen, Request\n",
        "from bs4 import BeautifulSoup\n",
        "import os\n",
        "import pandas as pd\n",
        "import matplotlib.pyplot as plt\n",
        "%matplotlib inline\n",
        "\n",
        "# NLTK VADER for sentiment analysis\n",
        "from nltk.sentiment.vader import SentimentIntensityAnalyzer"
      ],
      "execution_count": 3,
      "outputs": []
    },
    {
      "cell_type": "markdown",
      "metadata": {
        "id": "J0jupIrKmVS5"
      },
      "source": [
        "# Scraping Notizie Finanziarie"
      ]
    },
    {
      "cell_type": "code",
      "metadata": {
        "id": "c0Q6t7ZkDzQv"
      },
      "source": [
        "\n",
        "finwiz_url = 'https://finviz.com/quote.ashx?t='\n",
        "\n",
        "news_tables = {}\n",
        "tickers = ['META','NVDA', 'TSLA', 'GOOG']\n",
        "\n",
        "for ticker in tickers:\n",
        "    url = finwiz_url + ticker\n",
        "    req = Request(url='https://finviz.com/quote.ashx?t='+ticker+'&p=d',headers={'User-Agent': 'Mozilla/5.0'}) \n",
        "    response = urlopen(req)    \n",
        "    # lettura contenuto html\n",
        "    html = BeautifulSoup(response)\n",
        "    # selezione sezione 'news-table'\n",
        "    news_table = html.find(id='news-table')\n",
        "    # salvataggio sezione 'news-table'\n",
        "    news_tables[ticker] = news_table"
      ],
      "execution_count": 23,
      "outputs": []
    },
    {
      "cell_type": "markdown",
      "metadata": {
        "id": "-CMJlptkmpl6"
      },
      "source": [
        "## Visualizzazione Esmpio"
      ]
    },
    {
      "cell_type": "code",
      "metadata": {
        "colab": {
          "base_uri": "https://localhost:8080/"
        },
        "id": "HajdeKSBD_FA",
        "outputId": "7aaab709-5010-4820-f0ed-ed912ad7fe7d"
      },
      "source": [
        "\n",
        "# Lettura articoli con headline AMAZON 'AMZN' \n",
        "amzn = news_tables['META']\n",
        "# Prende tutte le righe in HTML con <tr> in 'amzn_tr'\n",
        "amzn_tr = amzn.findAll('tr')\n",
        "\n",
        "for i, table_row in enumerate(amzn_tr):\n",
        "    # legge l'elemento 'a' in 'link_text'\n",
        "    a_text = table_row.a.text\n",
        "    # legge l'elemento 'td' in 'data_text'\n",
        "    td_text = table_row.td.text\n",
        "    # stampa 'link_text' e 'data_text' \n",
        "    print(a_text)\n",
        "    print(td_text)\n",
        "    print('-----------------------------')\n",
        "    # stampa solo i primi 4\n",
        "    if i == 4:\n",
        "        break"
      ],
      "execution_count": 29,
      "outputs": [
        {
          "output_type": "stream",
          "name": "stdout",
          "text": [
            "NC investigating claims Facebook received WakeMed, Duke Health patient data\n",
            "Oct-20-22 08:39AM\n",
            "-----------------------------\n",
            "What Do Nvidia, Meta Platforms, and Oracle Have in Common?\n",
            "Oct-19-22 08:05PM\n",
            "-----------------------------\n",
            "What's Going on With Meta Platforms Stock?\n",
            "07:45PM\n",
            "-----------------------------\n",
            "Meta's key deal maker is leaving after more than a decade\n",
            "05:22PM\n",
            "-----------------------------\n",
            "Why Meta Platforms Stock Was Outperforming the Market Today\n",
            "02:48PM\n",
            "-----------------------------\n"
          ]
        }
      ]
    },
    {
      "cell_type": "markdown",
      "metadata": {
        "id": "FWsxDFLJoARW"
      },
      "source": [
        "## costruzione dataframe \n",
        "\n",
        "***Cosa è un DataFrame***\n",
        "\n",
        "Struttura dati di dimensioni variabili e potenzialmente eterogenea.\n",
        "\n",
        "La struttura dei dati contiene anche assi etichettati (righe e colonne).\n",
        "\n",
        "Può essere pensato come un contenitore simile a un dettato per oggetti Serie. \n",
        "\n",
        "Il DataFrame è la struttura dati primaria di Pandas."
      ]
    },
    {
      "cell_type": "code",
      "metadata": {
        "id": "HnGgnLs7ED7_"
      },
      "source": [
        "\n",
        "parsed_news = []\n",
        "\n",
        "# itera su tutte le news\n",
        "for file_name, news_table in news_tables.items():\n",
        "    # itera su tutti i tag tr che sono in 'news_table'\n",
        "    for x in news_table.findAll('tr'):\n",
        "        try:\n",
        "          # legge il testo per ogni tag tr \n",
        "          text = x.a.get_text() \n",
        "          # splitta il testo per tag td in una lista \n",
        "          date_scrape = x.td.text.split()\n",
        "          # controllo se la lunghezza è 1 altrimenti itera\n",
        "          if len(date_scrape) == 1:\n",
        "              time = date_scrape[0] \n",
        "          else:\n",
        "              date = date_scrape[0]\n",
        "              time = date_scrape[1]\n",
        "          # estrae l'etichetta del titolo\n",
        "          ticker = file_name.split('_')[0]\n",
        "          # append le informazioni alla riga\n",
        "          parsed_news.append([ticker, date, time, text])\n",
        "        except:\n",
        "          pass\n",
        "        \n",
        "#parsed_news\n",
        "\n",
        "# nomi delle colonne\n",
        "columns = ['ticker', 'date', 'time', 'headline']\n",
        "\n",
        "# costruzione del dataframe usando pandas\n",
        "parsed_and_scored_news = pd.DataFrame(parsed_news, columns=columns)\n"
      ],
      "execution_count": 30,
      "outputs": []
    },
    {
      "cell_type": "markdown",
      "metadata": {
        "id": "wzG9dwrfoEr0"
      },
      "source": [
        "# Sentiment\n",
        "\n",
        "Verrà svolta in modo non supervisionato usando la libreria NLTK.\n",
        "\n",
        "***SentimentIntensityAnalyzer()*** Molto simile al concetto di dizionario dove ad ogni termine viene associato un valore di 'polarità'\n"
      ]
    },
    {
      "cell_type": "code",
      "metadata": {
        "colab": {
          "base_uri": "https://localhost:8080/"
        },
        "id": "uc5OwhyaERp7",
        "outputId": "44d36fc0-c46e-4409-8e91-1a73043c2d0f"
      },
      "source": [
        "# scarico la libreria \n",
        "import nltk\n",
        "nltk.download('vader_lexicon')"
      ],
      "execution_count": 31,
      "outputs": [
        {
          "output_type": "stream",
          "name": "stderr",
          "text": [
            "[nltk_data] Downloading package vader_lexicon to /root/nltk_data...\n",
            "[nltk_data]   Package vader_lexicon is already up-to-date!\n"
          ]
        },
        {
          "output_type": "execute_result",
          "data": {
            "text/plain": [
              "True"
            ]
          },
          "metadata": {},
          "execution_count": 31
        }
      ]
    },
    {
      "cell_type": "code",
      "metadata": {
        "id": "PvL_xJEEEJF3"
      },
      "source": [
        "# istanzio il sentiment analyzer\n",
        "vader = SentimentIntensityAnalyzer()\n",
        "\n",
        "\n",
        "# applico vader ottenedo le polarità delle news\n",
        "scores = parsed_and_scored_news['headline'].apply(vader.polarity_scores).tolist()\n",
        "\n",
        "# mette le polarità come colonna del dataframe\n",
        "scores_df = pd.DataFrame(scores)\n",
        "parsed_and_scored_news = parsed_and_scored_news.join(scores_df, rsuffix='_right')\n",
        "\n",
        "# converto le date in formato datetime\n",
        "parsed_and_scored_news['date'] = pd.to_datetime(parsed_and_scored_news.date).dt.date\n"
      ],
      "execution_count": 32,
      "outputs": []
    },
    {
      "cell_type": "code",
      "metadata": {
        "colab": {
          "base_uri": "https://localhost:8080/",
          "height": 206
        },
        "id": "hNAiC8Z7xk34",
        "outputId": "8d86a949-707f-4253-d1b1-2d1a73517337"
      },
      "source": [
        "# mostro i primi x elementi del DataFrame\n",
        "parsed_and_scored_news.head()\n",
        "\n",
        "#parsed_and_scored_news.iloc[4].headline"
      ],
      "execution_count": 33,
      "outputs": [
        {
          "output_type": "execute_result",
          "data": {
            "text/plain": [
              "  ticker        date     time  \\\n",
              "0   META  2022-10-20  08:39AM   \n",
              "1   META  2022-10-19  08:05PM   \n",
              "2   META  2022-10-19  07:45PM   \n",
              "3   META  2022-10-19  05:22PM   \n",
              "4   META  2022-10-19  02:48PM   \n",
              "\n",
              "                                            headline  neg  neu  pos  compound  \n",
              "0  NC investigating claims Facebook received Wake...  0.0  1.0  0.0       0.0  \n",
              "1  What Do Nvidia, Meta Platforms, and Oracle Hav...  0.0  1.0  0.0       0.0  \n",
              "2         What's Going on With Meta Platforms Stock?  0.0  1.0  0.0       0.0  \n",
              "3  Meta's key deal maker is leaving after more th...  0.0  1.0  0.0       0.0  \n",
              "4  Why Meta Platforms Stock Was Outperforming the...  0.0  1.0  0.0       0.0  "
            ],
            "text/html": [
              "\n",
              "  <div id=\"df-76ab002d-f92c-480e-a79b-e29a74986977\">\n",
              "    <div class=\"colab-df-container\">\n",
              "      <div>\n",
              "<style scoped>\n",
              "    .dataframe tbody tr th:only-of-type {\n",
              "        vertical-align: middle;\n",
              "    }\n",
              "\n",
              "    .dataframe tbody tr th {\n",
              "        vertical-align: top;\n",
              "    }\n",
              "\n",
              "    .dataframe thead th {\n",
              "        text-align: right;\n",
              "    }\n",
              "</style>\n",
              "<table border=\"1\" class=\"dataframe\">\n",
              "  <thead>\n",
              "    <tr style=\"text-align: right;\">\n",
              "      <th></th>\n",
              "      <th>ticker</th>\n",
              "      <th>date</th>\n",
              "      <th>time</th>\n",
              "      <th>headline</th>\n",
              "      <th>neg</th>\n",
              "      <th>neu</th>\n",
              "      <th>pos</th>\n",
              "      <th>compound</th>\n",
              "    </tr>\n",
              "  </thead>\n",
              "  <tbody>\n",
              "    <tr>\n",
              "      <th>0</th>\n",
              "      <td>META</td>\n",
              "      <td>2022-10-20</td>\n",
              "      <td>08:39AM</td>\n",
              "      <td>NC investigating claims Facebook received Wake...</td>\n",
              "      <td>0.0</td>\n",
              "      <td>1.0</td>\n",
              "      <td>0.0</td>\n",
              "      <td>0.0</td>\n",
              "    </tr>\n",
              "    <tr>\n",
              "      <th>1</th>\n",
              "      <td>META</td>\n",
              "      <td>2022-10-19</td>\n",
              "      <td>08:05PM</td>\n",
              "      <td>What Do Nvidia, Meta Platforms, and Oracle Hav...</td>\n",
              "      <td>0.0</td>\n",
              "      <td>1.0</td>\n",
              "      <td>0.0</td>\n",
              "      <td>0.0</td>\n",
              "    </tr>\n",
              "    <tr>\n",
              "      <th>2</th>\n",
              "      <td>META</td>\n",
              "      <td>2022-10-19</td>\n",
              "      <td>07:45PM</td>\n",
              "      <td>What's Going on With Meta Platforms Stock?</td>\n",
              "      <td>0.0</td>\n",
              "      <td>1.0</td>\n",
              "      <td>0.0</td>\n",
              "      <td>0.0</td>\n",
              "    </tr>\n",
              "    <tr>\n",
              "      <th>3</th>\n",
              "      <td>META</td>\n",
              "      <td>2022-10-19</td>\n",
              "      <td>05:22PM</td>\n",
              "      <td>Meta's key deal maker is leaving after more th...</td>\n",
              "      <td>0.0</td>\n",
              "      <td>1.0</td>\n",
              "      <td>0.0</td>\n",
              "      <td>0.0</td>\n",
              "    </tr>\n",
              "    <tr>\n",
              "      <th>4</th>\n",
              "      <td>META</td>\n",
              "      <td>2022-10-19</td>\n",
              "      <td>02:48PM</td>\n",
              "      <td>Why Meta Platforms Stock Was Outperforming the...</td>\n",
              "      <td>0.0</td>\n",
              "      <td>1.0</td>\n",
              "      <td>0.0</td>\n",
              "      <td>0.0</td>\n",
              "    </tr>\n",
              "  </tbody>\n",
              "</table>\n",
              "</div>\n",
              "      <button class=\"colab-df-convert\" onclick=\"convertToInteractive('df-76ab002d-f92c-480e-a79b-e29a74986977')\"\n",
              "              title=\"Convert this dataframe to an interactive table.\"\n",
              "              style=\"display:none;\">\n",
              "        \n",
              "  <svg xmlns=\"http://www.w3.org/2000/svg\" height=\"24px\"viewBox=\"0 0 24 24\"\n",
              "       width=\"24px\">\n",
              "    <path d=\"M0 0h24v24H0V0z\" fill=\"none\"/>\n",
              "    <path d=\"M18.56 5.44l.94 2.06.94-2.06 2.06-.94-2.06-.94-.94-2.06-.94 2.06-2.06.94zm-11 1L8.5 8.5l.94-2.06 2.06-.94-2.06-.94L8.5 2.5l-.94 2.06-2.06.94zm10 10l.94 2.06.94-2.06 2.06-.94-2.06-.94-.94-2.06-.94 2.06-2.06.94z\"/><path d=\"M17.41 7.96l-1.37-1.37c-.4-.4-.92-.59-1.43-.59-.52 0-1.04.2-1.43.59L10.3 9.45l-7.72 7.72c-.78.78-.78 2.05 0 2.83L4 21.41c.39.39.9.59 1.41.59.51 0 1.02-.2 1.41-.59l7.78-7.78 2.81-2.81c.8-.78.8-2.07 0-2.86zM5.41 20L4 18.59l7.72-7.72 1.47 1.35L5.41 20z\"/>\n",
              "  </svg>\n",
              "      </button>\n",
              "      \n",
              "  <style>\n",
              "    .colab-df-container {\n",
              "      display:flex;\n",
              "      flex-wrap:wrap;\n",
              "      gap: 12px;\n",
              "    }\n",
              "\n",
              "    .colab-df-convert {\n",
              "      background-color: #E8F0FE;\n",
              "      border: none;\n",
              "      border-radius: 50%;\n",
              "      cursor: pointer;\n",
              "      display: none;\n",
              "      fill: #1967D2;\n",
              "      height: 32px;\n",
              "      padding: 0 0 0 0;\n",
              "      width: 32px;\n",
              "    }\n",
              "\n",
              "    .colab-df-convert:hover {\n",
              "      background-color: #E2EBFA;\n",
              "      box-shadow: 0px 1px 2px rgba(60, 64, 67, 0.3), 0px 1px 3px 1px rgba(60, 64, 67, 0.15);\n",
              "      fill: #174EA6;\n",
              "    }\n",
              "\n",
              "    [theme=dark] .colab-df-convert {\n",
              "      background-color: #3B4455;\n",
              "      fill: #D2E3FC;\n",
              "    }\n",
              "\n",
              "    [theme=dark] .colab-df-convert:hover {\n",
              "      background-color: #434B5C;\n",
              "      box-shadow: 0px 1px 3px 1px rgba(0, 0, 0, 0.15);\n",
              "      filter: drop-shadow(0px 1px 2px rgba(0, 0, 0, 0.3));\n",
              "      fill: #FFFFFF;\n",
              "    }\n",
              "  </style>\n",
              "\n",
              "      <script>\n",
              "        const buttonEl =\n",
              "          document.querySelector('#df-76ab002d-f92c-480e-a79b-e29a74986977 button.colab-df-convert');\n",
              "        buttonEl.style.display =\n",
              "          google.colab.kernel.accessAllowed ? 'block' : 'none';\n",
              "\n",
              "        async function convertToInteractive(key) {\n",
              "          const element = document.querySelector('#df-76ab002d-f92c-480e-a79b-e29a74986977');\n",
              "          const dataTable =\n",
              "            await google.colab.kernel.invokeFunction('convertToInteractive',\n",
              "                                                     [key], {});\n",
              "          if (!dataTable) return;\n",
              "\n",
              "          const docLinkHtml = 'Like what you see? Visit the ' +\n",
              "            '<a target=\"_blank\" href=https://colab.research.google.com/notebooks/data_table.ipynb>data table notebook</a>'\n",
              "            + ' to learn more about interactive tables.';\n",
              "          element.innerHTML = '';\n",
              "          dataTable['output_type'] = 'display_data';\n",
              "          await google.colab.output.renderOutput(dataTable, element);\n",
              "          const docLink = document.createElement('div');\n",
              "          docLink.innerHTML = docLinkHtml;\n",
              "          element.appendChild(docLink);\n",
              "        }\n",
              "      </script>\n",
              "    </div>\n",
              "  </div>\n",
              "  "
            ]
          },
          "metadata": {},
          "execution_count": 33
        }
      ]
    },
    {
      "cell_type": "markdown",
      "metadata": {
        "id": "myulPQg_o8s6"
      },
      "source": [
        "## Visualizzazione Sentiment\n",
        "\n",
        "Usando Pandas e Matplotlib visualizziamo la polarità delle notizie estratte."
      ]
    },
    {
      "cell_type": "code",
      "metadata": {
        "colab": {
          "base_uri": "https://localhost:8080/",
          "height": 436
        },
        "id": "1l3yQDjqEXo2",
        "outputId": "7e525a31-697b-4582-e5b5-0401070788b3"
      },
      "source": [
        "plt.rcParams['figure.figsize'] = [10, 6]\n",
        "\n",
        "# Raggruppa per data e colonne e calcola la media\n",
        "mean_scores = parsed_and_scored_news.groupby(['ticker','date']).mean()\n",
        "\n",
        "mean_scores = mean_scores.unstack()\n",
        "\n",
        "mean_scores = mean_scores.xs('compound', axis=\"columns\").transpose()\n",
        "\n",
        "# Plot a bar chart with pandas\n",
        "mean_scores.plot(kind = 'bar')\n",
        "plt.grid()"
      ],
      "execution_count": 34,
      "outputs": [
        {
          "output_type": "display_data",
          "data": {
            "text/plain": [
              "<Figure size 720x432 with 1 Axes>"
            ],
            "image/png": "[encoded data removed]"
          },
          "metadata": {
            "needs_background": "light"
          }
        }
      ]
    },
    {
      "cell_type": "markdown",
      "metadata": {
        "id": "HAJGqLo1Pz8b"
      },
      "source": [
        "## Altri strumenti per la sentiment analysis\n",
        "\n",
        "Non esiste solo la libreria NLTK. \n",
        "\n",
        "Ci sono altri strumenti come ad esempio TextBlob."
      ]
    },
    {
      "cell_type": "code",
      "metadata": {
        "id": "xNbP4DxArnFH"
      },
      "source": [
        "from textblob import TextBlob\n",
        "\n",
        "def get_polarity(text):\n",
        "  return TextBlob(text).sentiment.polarity\n",
        "\n",
        "parsed_and_scored_news['Polarity_TB'] = parsed_and_scored_news['headline'].apply(get_polarity)"
      ],
      "execution_count": 35,
      "outputs": []
    },
    {
      "cell_type": "code",
      "metadata": {
        "colab": {
          "base_uri": "https://localhost:8080/"
        },
        "id": "fk1ECLtCyg8y",
        "outputId": "ee5a19c5-2c57-4523-f90b-e7b0560a60d8"
      },
      "source": [
        "get_polarity('God, it was a shitty day.')"
      ],
      "execution_count": 37,
      "outputs": [
        {
          "output_type": "execute_result",
          "data": {
            "text/plain": [
              "Sentiment(polarity=0.0, subjectivity=0.0)"
            ]
          },
          "metadata": {},
          "execution_count": 37
        }
      ]
    },
    {
      "cell_type": "code",
      "metadata": {
        "colab": {
          "base_uri": "https://localhost:8080/"
        },
        "id": "uR8kMx6myJsc",
        "outputId": "8de9c19e-38d8-4f55-d797-67fc0213a772"
      },
      "source": [
        "def get_polarity(text):\n",
        "  return TextBlob(text).sentiment\n",
        "\n",
        "get_polarity(\"Meta's key deal maker is leaving after more than a decade\")\n"
      ],
      "execution_count": 56,
      "outputs": [
        {
          "output_type": "execute_result",
          "data": {
            "text/plain": [
              "Sentiment(polarity=0.25, subjectivity=0.75)"
            ]
          },
          "metadata": {},
          "execution_count": 56
        }
      ]
    },
    {
      "cell_type": "code",
      "source": [
        "get_polarity(\"Meta announces: 'with inflation it will increase the salaries of its employees'.\")"
      ],
      "metadata": {
        "colab": {
          "base_uri": "https://localhost:8080/"
        },
        "id": "c4O6nDBwiYrv",
        "outputId": "5a62be13-c233-43b9-8ad2-9c55e7d0dc82"
      },
      "execution_count": 58,
      "outputs": [
        {
          "output_type": "execute_result",
          "data": {
            "text/plain": [
              "Sentiment(polarity=0.0, subjectivity=0.0)"
            ]
          },
          "metadata": {},
          "execution_count": 58
        }
      ]
    },
    {
      "cell_type": "code",
      "source": [
        "get_polarity(\"Mining has become illegal in the US.\")"
      ],
      "metadata": {
        "colab": {
          "base_uri": "https://localhost:8080/"
        },
        "id": "I4F1SA_Kikne",
        "outputId": "4a70ddd0-fe4d-4560-da13-ef2bf11c3405"
      },
      "execution_count": 59,
      "outputs": [
        {
          "output_type": "execute_result",
          "data": {
            "text/plain": [
              "Sentiment(polarity=-0.5, subjectivity=0.5)"
            ]
          },
          "metadata": {},
          "execution_count": 59
        }
      ]
    },
    {
      "cell_type": "code",
      "metadata": {
        "id": "4JXRBng6r9JV"
      },
      "source": [
        "parsed_and_scored_news['Sentiment_Type']=''\n",
        "parsed_and_scored_news.loc[parsed_and_scored_news.Polarity_TB>0,'Sentiment_Type']='POSITIVE'\n",
        "parsed_and_scored_news.loc[parsed_and_scored_news.Polarity_TB==0,'Sentiment_Type']='NEUTRAL'\n",
        "parsed_and_scored_news.loc[parsed_and_scored_news.Polarity_TB<0,'Sentiment_Type']='NEGATIVE'"
      ],
      "execution_count": 60,
      "outputs": []
    },
    {
      "cell_type": "code",
      "metadata": {
        "colab": {
          "base_uri": "https://localhost:8080/",
          "height": 447
        },
        "id": "I-RKxfhysejX",
        "outputId": "d561735f-364f-4e0b-aa31-f43a42783939"
      },
      "source": [
        "parsed_and_scored_news.Sentiment_Type.value_counts().plot(kind='bar',title=\"Sentiment Analysis\")\n"
      ],
      "execution_count": 61,
      "outputs": [
        {
          "output_type": "execute_result",
          "data": {
            "text/plain": [
              "<matplotlib.axes._subplots.AxesSubplot at 0x7fd72e8951d0>"
            ]
          },
          "metadata": {},
          "execution_count": 61
        },
        {
          "output_type": "display_data",
          "data": {
            "text/plain": [
              "<Figure size 720x432 with 1 Axes>"
            ],
            "image/png": "[encoded data removed]"
          },
          "metadata": {
            "needs_background": "light"
          }
        }
      ]
    },
    {
      "cell_type": "code",
      "metadata": {
        "colab": {
          "base_uri": "https://localhost:8080/"
        },
        "id": "qpMJK2Zmskhi",
        "outputId": "d65cd983-3179-4828-8dfe-dd035c0e0d39"
      },
      "source": [
        "import nltk\n",
        "nltk.download('vader_lexicon')\n",
        "from nltk.sentiment.vader import SentimentIntensityAnalyzer\n",
        "sid = SentimentIntensityAnalyzer()"
      ],
      "execution_count": 62,
      "outputs": [
        {
          "output_type": "stream",
          "name": "stderr",
          "text": [
            "[nltk_data] Downloading package vader_lexicon to /root/nltk_data...\n",
            "[nltk_data]   Package vader_lexicon is already up-to-date!\n"
          ]
        }
      ]
    },
    {
      "cell_type": "code",
      "metadata": {
        "id": "zhMHzpT0soAG"
      },
      "source": [
        "parsed_and_scored_news['Polarity_vader'] = parsed_and_scored_news['headline'].apply(lambda Description: sid.polarity_scores(Description))\n",
        "\n",
        "parsed_and_scored_news['sentiment_type']=''\n",
        "parsed_and_scored_news.loc[parsed_and_scored_news.compound>0,'sentiment_type']='POSITIVE'\n",
        "parsed_and_scored_news.loc[parsed_and_scored_news.compound==0,'sentiment_type']='NEUTRAL'\n",
        "parsed_and_scored_news.loc[parsed_and_scored_news.compound<0,'sentiment_type']='NEGATIVE'"
      ],
      "execution_count": 63,
      "outputs": []
    },
    {
      "cell_type": "code",
      "metadata": {
        "colab": {
          "base_uri": "https://localhost:8080/",
          "height": 447
        },
        "id": "9wha_T7utH_g",
        "outputId": "8061c38e-5c11-4333-e855-1c94bde3dcf2"
      },
      "source": [
        "parsed_and_scored_news.sentiment_type.value_counts().plot(kind='bar',title=\"sentiment analysis\")\n"
      ],
      "execution_count": 64,
      "outputs": [
        {
          "output_type": "execute_result",
          "data": {
            "text/plain": [
              "<matplotlib.axes._subplots.AxesSubplot at 0x7fd72d77a290>"
            ]
          },
          "metadata": {},
          "execution_count": 64
        },
        {
          "output_type": "display_data",
          "data": {
            "text/plain": [
              "<Figure size 720x432 with 1 Axes>"
            ],
            "image/png": "[encoded data removed]"
          },
          "metadata": {
            "needs_background": "light"
          }
        }
      ]
    },
    {
      "cell_type": "code",
      "source": [
        "s = parsed_and_scored_news['headline'].values.tolist()\n"
      ],
      "metadata": {
        "id": "fWR_tjAOguCJ"
      },
      "execution_count": 74,
      "outputs": []
    },
    {
      "cell_type": "code",
      "source": [
        "type(s)"
      ],
      "metadata": {
        "id": "fF8RL9qUc_i7",
        "colab": {
          "base_uri": "https://localhost:8080/"
        },
        "outputId": "ea49e7d5-d87b-47f5-faa9-e32e1f4f9568"
      },
      "execution_count": 75,
      "outputs": [
        {
          "output_type": "execute_result",
          "data": {
            "text/plain": [
              "list"
            ]
          },
          "metadata": {},
          "execution_count": 75
        }
      ]
    },
    {
      "cell_type": "code",
      "source": [],
      "metadata": {
        "id": "QezhiBlKmOF1"
      },
      "execution_count": null,
      "outputs": []
    }
  ]
}